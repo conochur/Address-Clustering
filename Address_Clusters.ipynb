{
 "cells": [
  {
   "cell_type": "markdown",
   "metadata": {},
   "source": [
    "**Given an address list as the input, assuming that the address format has been standardized, one can find clusters of addresses within a certain distance radius (by city).**\n",
    "\n",
    "**Inputs** \n",
    "<br>\n",
    "*CSV Address*: a CSV file that consists of columns for the address and city\n",
    "<br>\n",
    "*Cities*: a list of cities for which the user needs address clusters\n",
    "<br>\n",
    "*max_dis*: the maximum distance that the addresses can be from one another\n",
    "<br>\n",
    "*num_fam*: a list of numbers corresponding to the number of addresses needed for each city\n",
    "\n",
    "**Output** \n",
    "*Final*: a list composed of each city and its corresponding addresses within the designated distance from one another"
   ]
  },
  {
   "cell_type": "code",
   "execution_count": 6,
   "metadata": {},
   "outputs": [],
   "source": [
    "from geopy.geocoders import Nominatim\n",
    "from geopy.distance import geodesic\n",
    "import csv\n",
    "import pandas as pd\n",
    "import random\n",
    "\n",
    "\n",
    "#using the geopy package, connect the user to the Nominatim API\n",
    "geolocator = Nominatim(user_agent=\"user\")"
   ]
  },
  {
   "cell_type": "code",
   "execution_count": 5,
   "metadata": {},
   "outputs": [],
   "source": [
    "def Create_Address_Clusters(CSV_Address,cities, max_dis, num_fam):\n",
    "\n",
    "    add_list = []\n",
    "    start_add = []\n",
    "\n",
    "    #load address csv\n",
    "    df = pd.read_csv(CSV_Address)\n",
    "    df.set_index(\"City\", inplace=True)\n",
    "\n",
    "\n",
    "    for city in cities:\n",
    "        final = []\n",
    "        #index the dataframe by city\n",
    "        df.reset_index()\n",
    "        city_set = df.loc[[str(city)]]\n",
    "\n",
    "        #create list of city specific addresses\n",
    "        for index,row in city_set.iterrows():\n",
    "            add_list.append([row[\"Address\"], row[\"State\"]])\n",
    "\n",
    "        #choose random address in dataframe\n",
    "        start_add = add_list[random.randint(0,len(city_set.index))]\n",
    "        start_geo = geolocator.geocode(str(start_add[0]) + \", \" + str(start_add[1]))\n",
    "        final. append([city,str(start_add)])\n",
    "\n",
    "        #add addresses within given miles of starting address until you have the number of clusters you want\n",
    "\n",
    "        for r in add_list:\n",
    "            if len(final)<num:\n",
    "                end_geo = geolocator.geocode(str(r[0]) + \", \" + str(r[1]))\n",
    "                try:\n",
    "                    if int(geodesic([start_geo.latitude,start_geo.longitude],[end_geo.latitude,end_geo.longitude]).miles) < int(dis):\n",
    "                        final.append([city , r[0]])\n",
    "                except:\n",
    "                    pass\n",
    "\n",
    "    print(final)\n",
    "\n",
    "\n",
    "    "
   ]
  },
  {
   "cell_type": "code",
   "execution_count": null,
   "metadata": {},
   "outputs": [],
   "source": []
  }
 ],
 "metadata": {
  "kernelspec": {
   "display_name": "Python 3",
   "language": "python",
   "name": "python3"
  },
  "language_info": {
   "codemirror_mode": {
    "name": "ipython",
    "version": 3
   },
   "file_extension": ".py",
   "mimetype": "text/x-python",
   "name": "python",
   "nbconvert_exporter": "python",
   "pygments_lexer": "ipython3",
   "version": "3.8.5"
  }
 },
 "nbformat": 4,
 "nbformat_minor": 2
}
